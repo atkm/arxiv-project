{
 "cells": [
  {
   "cell_type": "markdown",
   "metadata": {},
   "source": [
    "- [OAI](https://arxiv.org/help/oa/index) for metadata bulk-download. Updated nightly. *The OAI-PMH interface does not support selective harvesting based on submission date. The datestamps are designed to support incremental harvesting of updates on an ongoig basis.*\n",
    "    * number of articles capped at 1000 per request\n",
    "    * 503 after frequent requests\n",
    "    * datestamp and date created are very far\n",
    "- 09/23: scraped all set:math via metha. 133M in gunzip.  4hrs. 406 xml.gz files.\n",
    "- arXiv API for real-time metadata\n",
    "- PDF bulk-download available on [S3](https://arxiv.org/help/bulk_data_s3). 1 cent per GB.\n",
    "- Warning: *\"If you build indexes or tools based on the full-text you must link back to arXiv for downloads.\"*\n",
    "- On arXiv bulk download https://arxiv.org/help/bulk_data"
   ]
  },
  {
   "cell_type": "code",
   "execution_count": 7,
   "metadata": {},
   "outputs": [],
   "source": [
    "import feedparser\n",
    "import requests\n",
    "import xml.etree.ElementTree as ET\n",
    "from datetime import datetime\n",
    "import pandas as pd"
   ]
  },
  {
   "cell_type": "code",
   "execution_count": 2,
   "metadata": {},
   "outputs": [
    {
     "ename": "SyntaxError",
     "evalue": "invalid syntax (<ipython-input-2-e44972e8523f>, line 6)",
     "output_type": "error",
     "traceback": [
      "\u001b[0;36m  File \u001b[0;32m\"<ipython-input-2-e44972e8523f>\"\u001b[0;36m, line \u001b[0;32m6\u001b[0m\n\u001b[0;31m    summary =\u001b[0m\n\u001b[0m              ^\u001b[0m\n\u001b[0;31mSyntaxError\u001b[0m\u001b[0;31m:\u001b[0m invalid syntax\n"
     ]
    }
   ],
   "source": [
    "def arxiv_api():\n",
    "    baseurl = 'http://export.arxiv.org/api/query?search_query='\n",
    "    query_string = 'all:electron&start=0&max_results=1'\n",
    "    response = requests.get(baseurl + query_string)\n",
    "    response = feedparser.parse(response.text)\n",
    "    summary = \n",
    "    return "
   ]
  },
  {
   "cell_type": "code",
   "execution_count": 50,
   "metadata": {},
   "outputs": [],
   "source": [
    "# http://betatim.github.io/posts/analysing-the-arxiv/\n",
    "def oai_query(start_date, end_date):\n",
    "    baseurl = 'http://export.arxiv.org/oai2?verb=ListRecords&'\n",
    "    dates = ''.join(['from=', start_date, '&until=', end_date, '&'])\n",
    "    metadata_format = 'metadataPrefix=arXiv&'\n",
    "    category = 'set=math'\n",
    "    queryurl = ''.join([baseurl, dates, metadata_format, category])\n",
    "    response = requests.get(queryurl)\n",
    "    #feedparser fails\n",
    "    if response.status_code == 503:\n",
    "        raise requests.ConnectionError('503. %s' % response.text)\n",
    "    else:\n",
    "        return response"
   ]
  },
  {
   "cell_type": "code",
   "execution_count": 13,
   "metadata": {},
   "outputs": [],
   "source": [
    "d1 = oai_query('2015-01-01', '2015-02-01')"
   ]
  },
  {
   "cell_type": "code",
   "execution_count": 51,
   "metadata": {},
   "outputs": [
    {
     "ename": "ConnectionError",
     "evalue": "503. <html><body>\n<h1>Retry after 600 seconds</h1>\nThe arXiv OAI service is unavailable due to maintenance</body></html>\n",
     "output_type": "error",
     "traceback": [
      "\u001b[0;31m---------------------------------------------------------------------------\u001b[0m",
      "\u001b[0;31mConnectionError\u001b[0m                           Traceback (most recent call last)",
      "\u001b[0;32m<ipython-input-51-85474500fbb4>\u001b[0m in \u001b[0;36m<module>\u001b[0;34m()\u001b[0m\n\u001b[0;32m----> 1\u001b[0;31m \u001b[0md2\u001b[0m \u001b[0;34m=\u001b[0m \u001b[0moai_query\u001b[0m\u001b[0;34m(\u001b[0m\u001b[0;34m'2015-02-02'\u001b[0m\u001b[0;34m,\u001b[0m \u001b[0;34m'2015-02-05'\u001b[0m\u001b[0;34m)\u001b[0m\u001b[0;34m\u001b[0m\u001b[0m\n\u001b[0m",
      "\u001b[0;32m<ipython-input-50-5474a17963ad>\u001b[0m in \u001b[0;36moai_query\u001b[0;34m(start_date, end_date)\u001b[0m\n\u001b[1;32m      9\u001b[0m     \u001b[0;31m#feedparser fails\u001b[0m\u001b[0;34m\u001b[0m\u001b[0;34m\u001b[0m\u001b[0m\n\u001b[1;32m     10\u001b[0m     \u001b[0;32mif\u001b[0m \u001b[0mresponse\u001b[0m\u001b[0;34m.\u001b[0m\u001b[0mstatus_code\u001b[0m \u001b[0;34m==\u001b[0m \u001b[0;36m503\u001b[0m\u001b[0;34m:\u001b[0m\u001b[0;34m\u001b[0m\u001b[0m\n\u001b[0;32m---> 11\u001b[0;31m         \u001b[0;32mraise\u001b[0m \u001b[0mrequests\u001b[0m\u001b[0;34m.\u001b[0m\u001b[0mConnectionError\u001b[0m\u001b[0;34m(\u001b[0m\u001b[0;34m'503. %s'\u001b[0m \u001b[0;34m%\u001b[0m \u001b[0mresponse\u001b[0m\u001b[0;34m.\u001b[0m\u001b[0mtext\u001b[0m\u001b[0;34m)\u001b[0m\u001b[0;34m\u001b[0m\u001b[0m\n\u001b[0m\u001b[1;32m     12\u001b[0m     \u001b[0;32melse\u001b[0m\u001b[0;34m:\u001b[0m\u001b[0;34m\u001b[0m\u001b[0m\n\u001b[1;32m     13\u001b[0m         \u001b[0;32mreturn\u001b[0m \u001b[0mresponse\u001b[0m\u001b[0;34m\u001b[0m\u001b[0m\n",
      "\u001b[0;31mConnectionError\u001b[0m: 503. <html><body>\n<h1>Retry after 600 seconds</h1>\nThe arXiv OAI service is unavailable due to maintenance</body></html>\n"
     ]
    }
   ],
   "source": [
    "d2 = oai_query('2015-02-02', '2015-02-05')"
   ]
  },
  {
   "cell_type": "code",
   "execution_count": 49,
   "metadata": {},
   "outputs": [
    {
     "data": {
      "text/plain": [
       "'<html><body>\\n<h1>Retry after 600 seconds</h1>\\nThe arXiv OAI service is unavailable due to maintenance</body></html>\\n'"
      ]
     },
     "execution_count": 49,
     "metadata": {},
     "output_type": "execute_result"
    }
   ],
   "source": [
    "d2.text"
   ]
  },
  {
   "cell_type": "code",
   "execution_count": 45,
   "metadata": {},
   "outputs": [
    {
     "data": {
      "text/plain": [
       "True"
      ]
     },
     "execution_count": 45,
     "metadata": {},
     "output_type": "execute_result"
    }
   ],
   "source": [
    "d2.status_code == 503"
   ]
  },
  {
   "cell_type": "code",
   "execution_count": 26,
   "metadata": {},
   "outputs": [],
   "source": [
    "def query_to_df(xml):\n",
    "    data = ET.fromstring(xml.text)\n",
    "    OAIurl = '{http://www.openarchives.org/OAI/2.0/}'\n",
    "    arXivOAI = '{http://arxiv.org/OAI/arXiv/}'\n",
    "    df = pd.DataFrame(columns=(\"title\", \"abstract\", \"categories\", \"created\", \"id\", \"doi\"))\n",
    "    # Element.iter(): depth-first iteration of tree\n",
    "    for record in data.find(OAIurl+'ListRecords').findall(OAIurl+\"record\"):\n",
    "        arxiv_id = record.find(OAIurl+'header').find(OAIurl+'identifier')\n",
    "        datestamp = record.find(OAIurl+'header').find(OAIurl+'datestamp')\n",
    "        datestamp = datetime.strptime(datestamp.text, '%Y-%m-%d')\n",
    "        meta = record.find(OAIurl+'metadata')\n",
    "        info = meta.find(arXivOAI+\"arXiv\")\n",
    "        created = info.find(arXivOAI+\"created\").text\n",
    "        created = datetime.strptime(created, \"%Y-%m-%d\")\n",
    "        categories = info.find(arXivOAI+\"categories\").text\n",
    "\n",
    "        # if there is more than one DOI use the first one\n",
    "        # often the second one (if it exists at all) refers\n",
    "        # to an eratum or similar\n",
    "        doi = info.find(arXivOAI+\"doi\")\n",
    "        if doi is not None:\n",
    "            doi = doi.text.split()[0]\n",
    "                \n",
    "        contents = {'title': info.find(arXivOAI+\"title\").text,\n",
    "                    'id': info.find(arXivOAI+\"id\").text,#arxiv_id.text[4:],\n",
    "                    'abstract': info.find(arXivOAI+\"abstract\").text.strip(),\n",
    "                    'created': created,\n",
    "                    'datestamp': datestamp,\n",
    "                    'categories': categories.split(),\n",
    "                    'doi': doi,\n",
    "                    }\n",
    "\n",
    "        df = df.append(contents, ignore_index=True)\n",
    "    return df\n",
    "    "
   ]
  },
  {
   "cell_type": "code",
   "execution_count": 27,
   "metadata": {},
   "outputs": [],
   "source": [
    "df1 = query_to_df(d1)"
   ]
  },
  {
   "cell_type": "code",
   "execution_count": 33,
   "metadata": {},
   "outputs": [
    {
     "ename": "AttributeError",
     "evalue": "'NoneType' object has no attribute 'findall'",
     "output_type": "error",
     "traceback": [
      "\u001b[0;31m---------------------------------------------------------------------------\u001b[0m",
      "\u001b[0;31mAttributeError\u001b[0m                            Traceback (most recent call last)",
      "\u001b[0;32m<ipython-input-33-7131349f98c7>\u001b[0m in \u001b[0;36m<module>\u001b[0;34m()\u001b[0m\n\u001b[0;32m----> 1\u001b[0;31m \u001b[0mdf2\u001b[0m \u001b[0;34m=\u001b[0m \u001b[0mquery_to_df\u001b[0m\u001b[0;34m(\u001b[0m\u001b[0md2\u001b[0m\u001b[0;34m)\u001b[0m\u001b[0;34m\u001b[0m\u001b[0m\n\u001b[0m",
      "\u001b[0;32m<ipython-input-26-5fb7608076cd>\u001b[0m in \u001b[0;36mquery_to_df\u001b[0;34m(xml)\u001b[0m\n\u001b[1;32m      5\u001b[0m     \u001b[0mdf\u001b[0m \u001b[0;34m=\u001b[0m \u001b[0mpd\u001b[0m\u001b[0;34m.\u001b[0m\u001b[0mDataFrame\u001b[0m\u001b[0;34m(\u001b[0m\u001b[0mcolumns\u001b[0m\u001b[0;34m=\u001b[0m\u001b[0;34m(\u001b[0m\u001b[0;34m\"title\"\u001b[0m\u001b[0;34m,\u001b[0m \u001b[0;34m\"abstract\"\u001b[0m\u001b[0;34m,\u001b[0m \u001b[0;34m\"categories\"\u001b[0m\u001b[0;34m,\u001b[0m \u001b[0;34m\"created\"\u001b[0m\u001b[0;34m,\u001b[0m \u001b[0;34m\"id\"\u001b[0m\u001b[0;34m,\u001b[0m \u001b[0;34m\"doi\"\u001b[0m\u001b[0;34m)\u001b[0m\u001b[0;34m)\u001b[0m\u001b[0;34m\u001b[0m\u001b[0m\n\u001b[1;32m      6\u001b[0m     \u001b[0;31m# Element.iter(): depth-first iteration of tree\u001b[0m\u001b[0;34m\u001b[0m\u001b[0;34m\u001b[0m\u001b[0m\n\u001b[0;32m----> 7\u001b[0;31m     \u001b[0;32mfor\u001b[0m \u001b[0mrecord\u001b[0m \u001b[0;32min\u001b[0m \u001b[0mdata\u001b[0m\u001b[0;34m.\u001b[0m\u001b[0mfind\u001b[0m\u001b[0;34m(\u001b[0m\u001b[0mOAIurl\u001b[0m\u001b[0;34m+\u001b[0m\u001b[0;34m'ListRecords'\u001b[0m\u001b[0;34m)\u001b[0m\u001b[0;34m.\u001b[0m\u001b[0mfindall\u001b[0m\u001b[0;34m(\u001b[0m\u001b[0mOAIurl\u001b[0m\u001b[0;34m+\u001b[0m\u001b[0;34m\"record\"\u001b[0m\u001b[0;34m)\u001b[0m\u001b[0;34m:\u001b[0m\u001b[0;34m\u001b[0m\u001b[0m\n\u001b[0m\u001b[1;32m      8\u001b[0m         \u001b[0marxiv_id\u001b[0m \u001b[0;34m=\u001b[0m \u001b[0mrecord\u001b[0m\u001b[0;34m.\u001b[0m\u001b[0mfind\u001b[0m\u001b[0;34m(\u001b[0m\u001b[0mOAIurl\u001b[0m\u001b[0;34m+\u001b[0m\u001b[0;34m'header'\u001b[0m\u001b[0;34m)\u001b[0m\u001b[0;34m.\u001b[0m\u001b[0mfind\u001b[0m\u001b[0;34m(\u001b[0m\u001b[0mOAIurl\u001b[0m\u001b[0;34m+\u001b[0m\u001b[0;34m'identifier'\u001b[0m\u001b[0;34m)\u001b[0m\u001b[0;34m\u001b[0m\u001b[0m\n\u001b[1;32m      9\u001b[0m         \u001b[0mdatestamp\u001b[0m \u001b[0;34m=\u001b[0m \u001b[0mrecord\u001b[0m\u001b[0;34m.\u001b[0m\u001b[0mfind\u001b[0m\u001b[0;34m(\u001b[0m\u001b[0mOAIurl\u001b[0m\u001b[0;34m+\u001b[0m\u001b[0;34m'header'\u001b[0m\u001b[0;34m)\u001b[0m\u001b[0;34m.\u001b[0m\u001b[0mfind\u001b[0m\u001b[0;34m(\u001b[0m\u001b[0mOAIurl\u001b[0m\u001b[0;34m+\u001b[0m\u001b[0;34m'datestamp'\u001b[0m\u001b[0;34m)\u001b[0m\u001b[0;34m\u001b[0m\u001b[0m\n",
      "\u001b[0;31mAttributeError\u001b[0m: 'NoneType' object has no attribute 'findall'"
     ]
    }
   ],
   "source": [
    "df2 = query_to_df(d2)"
   ]
  },
  {
   "cell_type": "code",
   "execution_count": 28,
   "metadata": {},
   "outputs": [
    {
     "data": {
      "text/plain": [
       "0   2007-04-12\n",
       "1   2007-06-01\n",
       "2   2007-06-05\n",
       "3   2007-09-05\n",
       "4   2007-10-20\n",
       "Name: created, dtype: datetime64[ns]"
      ]
     },
     "execution_count": 28,
     "metadata": {},
     "output_type": "execute_result"
    }
   ],
   "source": [
    "df1['created'].head()"
   ]
  },
  {
   "cell_type": "code",
   "execution_count": 29,
   "metadata": {},
   "outputs": [
    {
     "data": {
      "text/plain": [
       "0   2015-01-06\n",
       "1   2015-01-20\n",
       "2   2015-01-05\n",
       "3   2015-01-27\n",
       "4   2015-01-27\n",
       "Name: datestamp, dtype: datetime64[ns]"
      ]
     },
     "execution_count": 29,
     "metadata": {},
     "output_type": "execute_result"
    }
   ],
   "source": [
    "df1['datestamp'].head()"
   ]
  },
  {
   "cell_type": "code",
   "execution_count": 65,
   "metadata": {},
   "outputs": [
    {
     "name": "stdout",
     "output_type": "stream",
     "text": [
      "{http://www.openarchives.org/OAI/2.0/}responseDate  !  {}\n",
      "{http://www.openarchives.org/OAI/2.0/}request  !  {'verb': 'ListRecords', 'until': '2015-02-01', 'from': '2015-01-01', 'metadataPrefix': 'arXiv', 'set': 'math'}\n",
      "{http://www.openarchives.org/OAI/2.0/}ListRecords  !  {}\n"
     ]
    }
   ],
   "source": [
    "for c in data:\n",
    "    print(c.tag, ' ! ', c.attrib)"
   ]
  },
  {
   "cell_type": "code",
   "execution_count": 64,
   "metadata": {
    "scrolled": false
   },
   "outputs": [
    {
     "name": "stdout",
     "output_type": "stream",
     "text": [
      "{http://www.openarchives.org/OAI/2.0/}record  !  {}\n",
      "{http://www.openarchives.org/OAI/2.0/}record  !  {}\n",
      "{http://www.openarchives.org/OAI/2.0/}record  !  {}\n",
      "{http://www.openarchives.org/OAI/2.0/}record  !  {}\n",
      "{http://www.openarchives.org/OAI/2.0/}record  !  {}\n",
      "{http://www.openarchives.org/OAI/2.0/}record  !  {}\n",
      "{http://www.openarchives.org/OAI/2.0/}record  !  {}\n",
      "{http://www.openarchives.org/OAI/2.0/}record  !  {}\n",
      "{http://www.openarchives.org/OAI/2.0/}record  !  {}\n",
      "{http://www.openarchives.org/OAI/2.0/}record  !  {}\n",
      "{http://www.openarchives.org/OAI/2.0/}record  !  {}\n",
      "{http://www.openarchives.org/OAI/2.0/}record  !  {}\n",
      "{http://www.openarchives.org/OAI/2.0/}record  !  {}\n",
      "{http://www.openarchives.org/OAI/2.0/}record  !  {}\n",
      "{http://www.openarchives.org/OAI/2.0/}record  !  {}\n",
      "{http://www.openarchives.org/OAI/2.0/}record  !  {}\n",
      "{http://www.openarchives.org/OAI/2.0/}record  !  {}\n",
      "{http://www.openarchives.org/OAI/2.0/}record  !  {}\n",
      "{http://www.openarchives.org/OAI/2.0/}record  !  {}\n",
      "{http://www.openarchives.org/OAI/2.0/}record  !  {}\n"
     ]
    }
   ],
   "source": [
    "for c in data.find(OAIurl + 'ListRecords')[:20]:\n",
    "    print(c.tag, ' ! ', c.attrib)"
   ]
  },
  {
   "cell_type": "code",
   "execution_count": 72,
   "metadata": {},
   "outputs": [
    {
     "name": "stdout",
     "output_type": "stream",
     "text": [
      "[<Element '{http://www.openarchives.org/OAI/2.0/}header' at 0x7f9c8e5e7c28>, <Element '{http://www.openarchives.org/OAI/2.0/}metadata' at 0x7f9c8dfdb908>]\n",
      "[<Element '{http://www.openarchives.org/OAI/2.0/}identifier' at 0x7f9c8dfdb728>, <Element '{http://www.openarchives.org/OAI/2.0/}datestamp' at 0x7f9c8dfdb7c8>, <Element '{http://www.openarchives.org/OAI/2.0/}setSpec' at 0x7f9c8dfdb868>]\n",
      "[]\n",
      "[]\n",
      "[]\n",
      "[<Element '{http://arxiv.org/OAI/arXiv/}arXiv' at 0x7f9c8dfdb958>]\n",
      "[<Element '{http://arxiv.org/OAI/arXiv/}id' at 0x7f9c8dfdb9f8>, <Element '{http://arxiv.org/OAI/arXiv/}created' at 0x7f9c8dfdba48>, <Element '{http://arxiv.org/OAI/arXiv/}authors' at 0x7f9c8dfdba98>, <Element '{http://arxiv.org/OAI/arXiv/}title' at 0x7f9c8dfdbdb8>, <Element '{http://arxiv.org/OAI/arXiv/}categories' at 0x7f9c8dfdbe08>, <Element '{http://arxiv.org/OAI/arXiv/}msc-class' at 0x7f9c8dfdbe58>, <Element '{http://arxiv.org/OAI/arXiv/}journal-ref' at 0x7f9c8dfdbea8>, <Element '{http://arxiv.org/OAI/arXiv/}doi' at 0x7f9c8dfdbef8>, <Element '{http://arxiv.org/OAI/arXiv/}abstract' at 0x7f9c8dfdbf98>]\n",
      "[]\n",
      "[]\n",
      "[<Element '{http://arxiv.org/OAI/arXiv/}author' at 0x7f9c8dfdbae8>, <Element '{http://arxiv.org/OAI/arXiv/}author' at 0x7f9c8dfdbc28>]\n",
      "[<Element '{http://arxiv.org/OAI/arXiv/}keyname' at 0x7f9c8dfdbb38>, <Element '{http://arxiv.org/OAI/arXiv/}forenames' at 0x7f9c8dfdbb88>]\n",
      "[]\n",
      "[]\n",
      "[<Element '{http://arxiv.org/OAI/arXiv/}keyname' at 0x7f9c8dfdbc78>, <Element '{http://arxiv.org/OAI/arXiv/}forenames' at 0x7f9c8dfdbd18>]\n",
      "[]\n",
      "[]\n",
      "[]\n",
      "[]\n",
      "[]\n",
      "[]\n",
      "[]\n",
      "[]\n"
     ]
    }
   ],
   "source": [
    "for c in data.find(OAIurl + 'ListRecords').find(OAIurl + 'record').iter():\n",
    "    print(list(c))"
   ]
  },
  {
   "cell_type": "markdown",
   "metadata": {},
   "source": [
    "- Nothing interesting in 'feed'. Just record of query made.\n",
    "- "
   ]
  },
  {
   "cell_type": "code",
   "execution_count": 45,
   "metadata": {},
   "outputs": [
    {
     "data": {
      "text/plain": [
       "<Element '{http://www.openarchives.org/OAI/2.0/}OAI-PMH' at 0x7f9c9d030228>"
      ]
     },
     "execution_count": 45,
     "metadata": {},
     "output_type": "execute_result"
    }
   ],
   "source": []
  }
 ],
 "metadata": {
  "kernelspec": {
   "display_name": "Python 3",
   "language": "python",
   "name": "python3"
  },
  "language_info": {
   "codemirror_mode": {
    "name": "ipython",
    "version": 3
   },
   "file_extension": ".py",
   "mimetype": "text/x-python",
   "name": "python",
   "nbconvert_exporter": "python",
   "pygments_lexer": "ipython3",
   "version": "3.6.2"
  }
 },
 "nbformat": 4,
 "nbformat_minor": 2
}
