{
 "cells": [
  {
   "cell_type": "markdown",
   "metadata": {},
   "source": [
    "NLP analysis of all math articles from arXiv.\n",
    "xml.gz files in `~/.metha`, loaded in Postgres.\n",
    "\n",
    "344111 articles.\n",
    "\n",
    "Identifier format before March 2007 differed from the present, though issue reconciled in the pulled data?\n",
    "\n",
    "- tf-idf to vectorize each document\n",
    "- visualize with SVD or tSNE\n",
    "- cluster by k-means or agglomerative\n",
    "- Text summarization within each cluster"
   ]
  },
  {
   "cell_type": "markdown",
   "metadata": {},
   "source": [
    "## Clustering\n",
    "- Pulling data in db is painful. Load data in pd.DataFrame for prototyping.\n",
    "- try 2-grams and 3-grams for vectorization\n",
    "- t-SNE (or SVD with 2~3 components) to vizualize\n",
    "- finding the right number of K is hard. Try K = (# of categories) * M, where 20 < M < 50 so M subjects per category."
   ]
  },
  {
   "cell_type": "code",
   "execution_count": 50,
   "metadata": {
    "scrolled": true
   },
   "outputs": [],
   "source": [
    "import pandas as pd\n",
    "import numpy as np\n",
    "from sklearn.feature_extraction.text import TfidfVectorizer\n",
    "from sklearn.cluster import KMeans\n",
    "import matplotlib\n",
    "%matplotlib inline"
   ]
  },
  {
   "cell_type": "code",
   "execution_count": 2,
   "metadata": {},
   "outputs": [],
   "source": [
    "import pickle\n",
    "with open('../metha-all-math.pkl','rb') as f:\n",
    "    df = pickle.load(f)"
   ]
  },
  {
   "cell_type": "code",
   "execution_count": 24,
   "metadata": {},
   "outputs": [
    {
     "data": {
      "text/plain": [
       "27278"
      ]
     },
     "execution_count": 24,
     "metadata": {},
     "output_type": "execute_result"
    }
   ],
   "source": [
    "# work with a smaller set\n",
    "(df['submitted'] >= '2017-01-01').sum() # => 27278\n",
    "(df['submitted'] >= '2016-01-01').sum() # => 63639\n",
    "(df['submitted'] >= '2015-01-01').sum() # => 98358\n",
    "(df['submitted'] >= '2014-01-01').sum() # => 130453"
   ]
  },
  {
   "cell_type": "code",
   "execution_count": 26,
   "metadata": {},
   "outputs": [
    {
     "data": {
      "text/plain": [
       "((344111, 6),\n",
       " Index(['abstract', 'authors', 'categories', 'identifier', 'submitted',\n",
       "        'title'],\n",
       "       dtype='object'),\n",
       " (27278, 6))"
      ]
     },
     "execution_count": 26,
     "metadata": {},
     "output_type": "execute_result"
    }
   ],
   "source": [
    "df.shape, df.columns, df_small.shape"
   ]
  },
  {
   "cell_type": "code",
   "execution_count": 27,
   "metadata": {},
   "outputs": [
    {
     "data": {
      "text/plain": [
       "(19335, 3547)"
      ]
     },
     "execution_count": 27,
     "metadata": {},
     "output_type": "execute_result"
    }
   ],
   "source": [
    "len(df['categories'].unique()), len(df_small['categories'].unique())"
   ]
  },
  {
   "cell_type": "code",
   "execution_count": 35,
   "metadata": {},
   "outputs": [
    {
     "data": {
      "text/plain": [
       "143"
      ]
     },
     "execution_count": 35,
     "metadata": {},
     "output_type": "execute_result"
    }
   ],
   "source": []
  },
  {
   "cell_type": "code",
   "execution_count": 25,
   "metadata": {},
   "outputs": [],
   "source": [
    "df_17 = df[df['submitted'] >= '2017-01-01']\n",
    "abstracts_17 = df_17['abstract']\n",
    "tfidf_vect = TfidfVectorizer()\n",
    "abs_vect_17 = tfidf_vect.fit_transform(abstracts_17)"
   ]
  },
  {
   "cell_type": "code",
   "execution_count": 3,
   "metadata": {},
   "outputs": [],
   "source": [
    "df_16 = df[df['submitted'] >= '2016-01-01']\n",
    "abstracts_16 = df_16['abstract']\n",
    "tfidf_vect = TfidfVectorizer()\n",
    "abs_vect_16 = tfidf_vect.fit_transform(abstracts_16)"
   ]
  },
  {
   "cell_type": "code",
   "execution_count": 48,
   "metadata": {},
   "outputs": [],
   "source": [
    "tfidf_vect = TfidfVectorizer()\n",
    "abstracts = df['abstract']\n",
    "abs_vect = tfidf_vect.fit_transform(abstracts)"
   ]
  },
  {
   "cell_type": "code",
   "execution_count": 4,
   "metadata": {},
   "outputs": [
    {
     "data": {
      "text/plain": [
       "(63639, 69408)"
      ]
     },
     "execution_count": 4,
     "metadata": {},
     "output_type": "execute_result"
    }
   ],
   "source": [
    "abs_vect_16.shape\n",
    "# 157615 words in corpus; 69408 for df_16; 46187 for df_17"
   ]
  },
  {
   "cell_type": "markdown",
   "metadata": {},
   "source": [
    "## Are clusters compatible with categories?\n",
    "- There are 33 math categories; 133 non-math.\n",
    "\n",
    "### kmeans runtime\n",
    "- (dataset, `k_per_category`, `n_categories`, `n_init`, `n_jobs`) -> time\n",
    "- `timestamp >= 2017-01-01`, 1, 143, 1, _  ->  3m50s\n",
    "- full, 1, 150, 1, _ -> 1h14m\n",
    "- `df_161`, 1, 1, 150, 1, _ ->  7m\n",
    "\n",
    "*Note*: `n_jobs` greater than 1 irrelevant when `n_init` is 1."
   ]
  },
  {
   "cell_type": "code",
   "execution_count": 5,
   "metadata": {},
   "outputs": [
    {
     "name": "stdout",
     "output_type": "stream",
     "text": [
      "CPU times: user 7min 1s, sys: 3.57 s, total: 7min 4s\n",
      "Wall time: 7min 3s\n"
     ]
    }
   ],
   "source": [
    "k_per_category = 1 # see if categories correspond to clusters\n",
    "n_categories = 150 # 163 for full df; 143 for df_17\n",
    "%time kmeans = KMeans(n_clusters=k_per_category * n_categories,\\\n",
    "                      n_init=1,\\\n",
    "                     n_jobs=1).fit(abs_vect_16)"
   ]
  },
  {
   "cell_type": "code",
   "execution_count": 6,
   "metadata": {},
   "outputs": [
    {
     "ename": "NameError",
     "evalue": "name 'tw_cli' is not defined",
     "output_type": "error",
     "traceback": [
      "\u001b[0;31m---------------------------------------------------------------------------\u001b[0m",
      "\u001b[0;31mNameError\u001b[0m                                 Traceback (most recent call last)",
      "\u001b[0;32m<ipython-input-6-94595927918a>\u001b[0m in \u001b[0;36m<module>\u001b[0;34m()\u001b[0m\n\u001b[1;32m      2\u001b[0m \u001b[0;31m#tw_cli = twilio.rest.Client('ACa7d89d1e86ec5a863118f0860e0a9b74',\u001b[0m\u001b[0;34m\u001b[0m\u001b[0;34m\u001b[0m\u001b[0m\n\u001b[1;32m      3\u001b[0m \u001b[0;31m#                           'c060df5f1e0e64144a59ea9f58d3f7c7')\u001b[0m\u001b[0;34m\u001b[0m\u001b[0;34m\u001b[0m\u001b[0m\n\u001b[0;32m----> 4\u001b[0;31m tw_cli.messages.create(to='+15037531533',\n\u001b[0m\u001b[1;32m      5\u001b[0m                       \u001b[0mfrom_\u001b[0m\u001b[0;34m=\u001b[0m\u001b[0;34m'+19713022281'\u001b[0m\u001b[0;34m,\u001b[0m\u001b[0;34m\u001b[0m\u001b[0m\n\u001b[1;32m      6\u001b[0m                       body='kmeans finished running')\n",
      "\u001b[0;31mNameError\u001b[0m: name 'tw_cli' is not defined"
     ]
    }
   ],
   "source": [
    "#import twilio.rest\n",
    "#tw_cli = twilio.rest.Client('ACa7d89d1e86ec5a863118f0860e0a9b74',\n",
    "#                           'c060df5f1e0e64144a59ea9f58d3f7c7')\n",
    "tw_cli.messages.create(to='+15037531533',\n",
    "                      from_='+19713022281',\n",
    "                      body='kmeans finished running')"
   ]
  },
  {
   "cell_type": "code",
   "execution_count": 13,
   "metadata": {},
   "outputs": [],
   "source": [
    "abs_clusters = kmeans.predict(abs_vect_16)"
   ]
  },
  {
   "cell_type": "code",
   "execution_count": 47,
   "metadata": {},
   "outputs": [
    {
     "data": {
      "text/plain": [
       "array([ 92,  84, 114,  51,  50], dtype=int32)"
      ]
     },
     "execution_count": 47,
     "metadata": {},
     "output_type": "execute_result"
    }
   ],
   "source": [
    "abs_clusters[:5]"
   ]
  },
  {
   "cell_type": "code",
   "execution_count": 93,
   "metadata": {},
   "outputs": [],
   "source": [
    "df_16['cluster'] = abs_clusters"
   ]
  },
  {
   "cell_type": "code",
   "execution_count": 104,
   "metadata": {},
   "outputs": [],
   "source": [
    "categories_16 = set(\n",
    "    [item for sublist in df_16['categories'] \n",
    "     for item in sublist]\n",
    ") # 147 unique categories\n",
    "cluster_dict = {i: {k: 0 for k in categories_16} for i in range(150)}"
   ]
  },
  {
   "cell_type": "code",
   "execution_count": 105,
   "metadata": {
    "scrolled": true
   },
   "outputs": [],
   "source": [
    "for _, (_, _, categories, _, _, _, cluster) in df_16.iterrows():\n",
    "    d = cluster_dict[int(cluster)]\n",
    "    for c in categories:\n",
    "        d[c] = d[c]+1"
   ]
  },
  {
   "cell_type": "code",
   "execution_count": 106,
   "metadata": {},
   "outputs": [],
   "source": [
    "max_categories = [ max(cluster_dict[i], key=cluster_dict[i].get)\n",
    "                  for i in range(150) ]"
   ]
  },
  {
   "cell_type": "code",
   "execution_count": 110,
   "metadata": {},
   "outputs": [
    {
     "name": "stdout",
     "output_type": "stream",
     "text": [
      "35\n",
      "126\n"
     ]
    }
   ],
   "source": [
    "for i, c in enumerate(max_categories):\n",
    "    if c == 'math.DS':\n",
    "        print(i)\n",
    "# DS clusters are 35 and 126"
   ]
  },
  {
   "cell_type": "code",
   "execution_count": 111,
   "metadata": {},
   "outputs": [
    {
     "data": {
      "text/plain": [
       "{'astro-ph.CO': 1,\n",
       " 'astro-ph.EP': 3,\n",
       " 'astro-ph.GA': 0,\n",
       " 'astro-ph.HE': 0,\n",
       " 'astro-ph.IM': 1,\n",
       " 'astro-ph.SR': 0,\n",
       " 'cond-mat.dis-nn': 3,\n",
       " 'cond-mat.mes-hall': 3,\n",
       " 'cond-mat.mtrl-sci': 1,\n",
       " 'cond-mat.other': 1,\n",
       " 'cond-mat.quant-gas': 1,\n",
       " 'cond-mat.soft': 2,\n",
       " 'cond-mat.stat-mech': 25,\n",
       " 'cond-mat.str-el': 3,\n",
       " 'cond-mat.supr-con': 0,\n",
       " 'cs.AI': 5,\n",
       " 'cs.AR': 0,\n",
       " 'cs.CC': 0,\n",
       " 'cs.CE': 1,\n",
       " 'cs.CG': 1,\n",
       " 'cs.CL': 0,\n",
       " 'cs.CR': 0,\n",
       " 'cs.CV': 0,\n",
       " 'cs.CY': 0,\n",
       " 'cs.DB': 0,\n",
       " 'cs.DC': 2,\n",
       " 'cs.DL': 0,\n",
       " 'cs.DM': 2,\n",
       " 'cs.DS': 1,\n",
       " 'cs.ET': 2,\n",
       " 'cs.FL': 2,\n",
       " 'cs.GR': 0,\n",
       " 'cs.GT': 1,\n",
       " 'cs.HC': 0,\n",
       " 'cs.IR': 0,\n",
       " 'cs.IT': 39,\n",
       " 'cs.LG': 5,\n",
       " 'cs.LO': 1,\n",
       " 'cs.MA': 2,\n",
       " 'cs.MM': 0,\n",
       " 'cs.MS': 1,\n",
       " 'cs.NA': 3,\n",
       " 'cs.NE': 1,\n",
       " 'cs.NI': 2,\n",
       " 'cs.OH': 0,\n",
       " 'cs.OS': 0,\n",
       " 'cs.PF': 0,\n",
       " 'cs.PL': 0,\n",
       " 'cs.RO': 8,\n",
       " 'cs.SC': 2,\n",
       " 'cs.SD': 0,\n",
       " 'cs.SE': 0,\n",
       " 'cs.SI': 0,\n",
       " 'cs.SY': 80,\n",
       " 'eess.SP': 0,\n",
       " 'gr-qc': 5,\n",
       " 'hep-lat': 1,\n",
       " 'hep-ph': 3,\n",
       " 'hep-th': 14,\n",
       " 'math-ph': 103,\n",
       " 'math.AC': 3,\n",
       " 'math.AG': 9,\n",
       " 'math.AP': 65,\n",
       " 'math.AT': 2,\n",
       " 'math.CA': 19,\n",
       " 'math.CO': 23,\n",
       " 'math.CT': 6,\n",
       " 'math.CV': 5,\n",
       " 'math.DG': 7,\n",
       " 'math.DS': 268,\n",
       " 'math.FA': 27,\n",
       " 'math.GM': 1,\n",
       " 'math.GN': 2,\n",
       " 'math.GR': 6,\n",
       " 'math.GT': 4,\n",
       " 'math.HO': 3,\n",
       " 'math.IT': 39,\n",
       " 'math.KT': 1,\n",
       " 'math.LO': 5,\n",
       " 'math.MG': 3,\n",
       " 'math.MP': 103,\n",
       " 'math.NA': 38,\n",
       " 'math.NT': 8,\n",
       " 'math.OA': 7,\n",
       " 'math.OC': 205,\n",
       " 'math.PR': 37,\n",
       " 'math.QA': 2,\n",
       " 'math.RA': 2,\n",
       " 'math.RT': 4,\n",
       " 'math.SG': 7,\n",
       " 'math.SP': 3,\n",
       " 'math.ST': 4,\n",
       " 'nlin.AO': 9,\n",
       " 'nlin.CD': 20,\n",
       " 'nlin.CG': 1,\n",
       " 'nlin.PS': 3,\n",
       " 'nlin.SI': 22,\n",
       " 'nucl-ex': 0,\n",
       " 'nucl-th': 0,\n",
       " 'physics.acc-ph': 0,\n",
       " 'physics.ao-ph': 1,\n",
       " 'physics.app-ph': 1,\n",
       " 'physics.atm-clus': 1,\n",
       " 'physics.atom-ph': 0,\n",
       " 'physics.bio-ph': 4,\n",
       " 'physics.chem-ph': 1,\n",
       " 'physics.class-ph': 3,\n",
       " 'physics.comp-ph': 5,\n",
       " 'physics.data-an': 2,\n",
       " 'physics.ed-ph': 0,\n",
       " 'physics.flu-dyn': 4,\n",
       " 'physics.gen-ph': 0,\n",
       " 'physics.geo-ph': 0,\n",
       " 'physics.hist-ph': 0,\n",
       " 'physics.ins-det': 0,\n",
       " 'physics.med-ph': 0,\n",
       " 'physics.optics': 2,\n",
       " 'physics.plasm-ph': 2,\n",
       " 'physics.pop-ph': 0,\n",
       " 'physics.soc-ph': 2,\n",
       " 'physics.space-ph': 0,\n",
       " 'q-bio.BM': 0,\n",
       " 'q-bio.CB': 1,\n",
       " 'q-bio.GN': 0,\n",
       " 'q-bio.MN': 13,\n",
       " 'q-bio.NC': 5,\n",
       " 'q-bio.OT': 2,\n",
       " 'q-bio.PE': 5,\n",
       " 'q-bio.QM': 5,\n",
       " 'q-bio.SC': 2,\n",
       " 'q-bio.TO': 0,\n",
       " 'q-fin.CP': 0,\n",
       " 'q-fin.EC': 0,\n",
       " 'q-fin.GN': 0,\n",
       " 'q-fin.MF': 0,\n",
       " 'q-fin.PM': 0,\n",
       " 'q-fin.PR': 0,\n",
       " 'q-fin.RM': 0,\n",
       " 'q-fin.ST': 0,\n",
       " 'q-fin.TR': 0,\n",
       " 'quant-ph': 14,\n",
       " 'stat.AP': 0,\n",
       " 'stat.CO': 0,\n",
       " 'stat.ME': 1,\n",
       " 'stat.ML': 4,\n",
       " 'stat.OT': 0,\n",
       " 'stat.TH': 4}"
      ]
     },
     "execution_count": 111,
     "metadata": {},
     "output_type": "execute_result"
    }
   ],
   "source": [
    "cluster_dict[35]"
   ]
  },
  {
   "cell_type": "code",
   "execution_count": 117,
   "metadata": {
    "scrolled": true
   },
   "outputs": [
    {
     "data": {
      "text/plain": [
       "3350      Planar S-systems: Global stability and the cen...\n",
       "3366      Interacting and noninteracting integrable systems\n",
       "3481                         A Core Theory of Delay Systems\n",
       "3557             Compositionality of the Runge-Kutta Method\n",
       "3582      A homogenization theorem for Langevin systems ...\n",
       "3610      Differential-functional dynamical systems, the...\n",
       "3927      Where and When Orbits of Chaotic Systems Prefe...\n",
       "3999                  How do nonholonomic integrators work?\n",
       "5557      A Characterization of Integral ISS for Switche...\n",
       "5665      Output Average Consensus Over Heterogeneous Mu...\n",
       "5668      Systems of four coupled one sided Sylvester-ty...\n",
       "5715      The center problem for the Lotka reactions wit...\n",
       "5967      Robustness Analysis of Systems' Safety through...\n",
       "5987      Robust Stability of Optimization-based State E...\n",
       "6108      Dynamics and evolution of planets in mean-moti...\n",
       "6128                                 Approximation Dynamics\n",
       "6130      Lax orthogonal factorisations in ordered struc...\n",
       "6215      Stabilization of Underactuated Mechanical Syst...\n",
       "6229      Connections between rate-induced tipping and n...\n",
       "9979      Using quantum theory to reduce the complexity ...\n",
       "18983     Universality of charge transport in weakly int...\n",
       "18995     Reduction to a single closed equation for 2 by...\n",
       "19146     Trajectory Generation for Quadrotor Based Syst...\n",
       "19229     Find an Optimal Path in Static System and Dyna...\n",
       "19236     Arnold diffusion for cusp-generic nearly integ...\n",
       "19253     On the local exact controllability of micropol...\n",
       "19277     Cooperative output regulation of multi-agent n...\n",
       "19278      The Tulczyjew triple in mechanics on a Lie group\n",
       "19608           Observability of Sensorless Electric Drives\n",
       "19668     Piecewise conjugacy for multivariable dynamics...\n",
       "                                ...                        \n",
       "322129    On optimal performance of nonlinear energy sin...\n",
       "322135    An algebra of open continuous time dynamical s...\n",
       "322434                         Edrei's Conjecture revisited\n",
       "322460    Elliptic Determinantal Processes and Elliptic ...\n",
       "322536    Taming Tail Latency for Erasure-coded, Distrib...\n",
       "322647    Sparse Control of Kinetic Cooperative Systems ...\n",
       "322668    Stabilization Bounds for Linear Finite Dynamic...\n",
       "322671    Towards a complete classification of fermionic...\n",
       "322833      Diffusive systems and weighted Hankel operators\n",
       "322855    Thermodynamic Stability of Driven Open Systems...\n",
       "322973    McKean-Vlasov limit for interacting systems wi...\n",
       "322977    Chemical reaction-diffusion networks; converge...\n",
       "322998    Selective Strong Structural Minimum Cost Resil...\n",
       "323138    On the SPRification of linear descriptor syste...\n",
       "323198                     Winding in Non-Hermitian Systems\n",
       "323232    On Approximate Diagnosability of Nonlinear Sys...\n",
       "334707    A Stability-constrained Optimization Framework...\n",
       "334718    On Independence and Capacity of Multidimension...\n",
       "334731    Open Multi-Agent Systems: Gossiping with Rando...\n",
       "334737    Operator Fitting for Parameter Estimation of S...\n",
       "334823    An Algorithmic Information Calculus for Causal...\n",
       "334840    Performance Analysis of FSO System with Spatia...\n",
       "334898    Type II balanced truncation for deterministic ...\n",
       "334946    On the indivisibility of derived Kato's Euler ...\n",
       "335060       A dissipativity theorem for p-dominant systems\n",
       "335232    Balanced truncation for model order reduction ...\n",
       "335233    Controllability and data-driven identification...\n",
       "335261    Integrable deformations of the Bogoyavlenskij-...\n",
       "335279    Some reductions of rank 2 and genera 2 and 3 H...\n",
       "335339    Equilibrium-Independent Dissipativity with Qua...\n",
       "Name: title, Length: 727, dtype: object"
      ]
     },
     "execution_count": 117,
     "metadata": {},
     "output_type": "execute_result"
    }
   ],
   "source": [
    "df_16[df_16['cluster'] == 35]['title']"
   ]
  },
  {
   "cell_type": "code",
   "execution_count": null,
   "metadata": {},
   "outputs": [],
   "source": []
  },
  {
   "cell_type": "code",
   "execution_count": null,
   "metadata": {},
   "outputs": [],
   "source": []
  },
  {
   "cell_type": "markdown",
   "metadata": {},
   "source": [
    "## Interacting with Postgres"
   ]
  },
  {
   "cell_type": "code",
   "execution_count": 27,
   "metadata": {},
   "outputs": [],
   "source": [
    "import sys\n",
    "sys.path.append('..') if '..' not in sys.path else None\n",
    "from app import db\n",
    "from models import Article, Author, Category, article_author, article_category"
   ]
  },
  {
   "cell_type": "code",
   "execution_count": 4,
   "metadata": {},
   "outputs": [],
   "source": [
    "query = db.session().query(Article)"
   ]
  },
  {
   "cell_type": "code",
   "execution_count": 30,
   "metadata": {},
   "outputs": [
    {
     "data": {
      "text/plain": [
       "36361"
      ]
     },
     "execution_count": 30,
     "metadata": {},
     "output_type": "execute_result"
    }
   ],
   "source": [
    "query.filter(\n",
    "    (Article.submitted >= '2016-01-01') & (Article.submitted <= '2016-12-31')\n",
    ").count()"
   ]
  },
  {
   "cell_type": "code",
   "execution_count": 33,
   "metadata": {
    "scrolled": true
   },
   "outputs": [
    {
     "data": {
      "text/plain": [
       "27278"
      ]
     },
     "execution_count": 33,
     "metadata": {},
     "output_type": "execute_result"
    }
   ],
   "source": [
    "query.filter(Article.submitted >= '2017-01-01').count()"
   ]
  },
  {
   "cell_type": "code",
   "execution_count": 52,
   "metadata": {},
   "outputs": [
    {
     "data": {
      "text/plain": [
       "36361"
      ]
     },
     "execution_count": 52,
     "metadata": {},
     "output_type": "execute_result"
    }
   ],
   "source": [
    "query.filter(\n",
    "    (Article.submitted >= '2016-01-01') & (Article.submitted <= '2016-12-31')\n",
    ").count()"
   ]
  },
  {
   "cell_type": "code",
   "execution_count": 34,
   "metadata": {},
   "outputs": [
    {
     "data": {
      "text/plain": [
       "[(1, 'cs.SY'), (1, 'cs.AI'), (1, 'math.OC')]"
      ]
     },
     "execution_count": 34,
     "metadata": {},
     "output_type": "execute_result"
    }
   ],
   "source": [
    "# query with join example. need Table.c to access columns \n",
    "db.session.query(Article.id, Category.name) \\\n",
    ".filter(Article.id == 1) \\\n",
    ".filter(Article.id == article_category.c.article_id) \\\n",
    ".filter(Category.id == article_category.c.category_id) \\\n",
    ".all()"
   ]
  },
  {
   "cell_type": "code",
   "execution_count": 37,
   "metadata": {},
   "outputs": [],
   "source": [
    "# num of distinct categories = 13627\n",
    "def get_categories(i):\n",
    "    return [c.name for c in db.session.query(Article.id, Category.name) \\\n",
    "    .filter(Article.id == i) \\\n",
    "    .filter(Article.id == article_category.c.article_id) \\\n",
    "    .filter(Category.id == article_category.c.category_id) \\\n",
    "    .all()]"
   ]
  },
  {
   "cell_type": "code",
   "execution_count": 44,
   "metadata": {},
   "outputs": [],
   "source": [
    "cs = [get_categories(i+1) for i in range(query.count())]\n",
    "# this takes a while!"
   ]
  },
  {
   "cell_type": "code",
   "execution_count": 50,
   "metadata": {},
   "outputs": [
    {
     "data": {
      "text/plain": [
       "13627"
      ]
     },
     "execution_count": 50,
     "metadata": {},
     "output_type": "execute_result"
    }
   ],
   "source": [
    "len(set( [tuple(x) for x in cs] )) # list is not hashable but tuple is"
   ]
  },
  {
   "cell_type": "code",
   "execution_count": 53,
   "metadata": {},
   "outputs": [
    {
     "data": {
      "text/plain": [
       "163"
      ]
     },
     "execution_count": 53,
     "metadata": {},
     "output_type": "execute_result"
    }
   ],
   "source": [
    "# 163 categories\n",
    "db.session.query(Category).count()"
   ]
  },
  {
   "cell_type": "code",
   "execution_count": 57,
   "metadata": {},
   "outputs": [
    {
     "data": {
      "text/plain": [
       "33"
      ]
     },
     "execution_count": 57,
     "metadata": {},
     "output_type": "execute_result"
    }
   ],
   "source": [
    "# 33 math categories\n",
    "db.session.query(Category.name).filter(Category.name.like('math%')).count()"
   ]
  },
  {
   "cell_type": "code",
   "execution_count": 58,
   "metadata": {},
   "outputs": [
    {
     "data": {
      "text/plain": [
       "344110"
      ]
     },
     "execution_count": 58,
     "metadata": {},
     "output_type": "execute_result"
    }
   ],
   "source": [
    "# all articles are math\n",
    "db.session.query(article_category.c.article_id)\\\n",
    ".filter(Category.id == article_category.c.category_id)\\\n",
    ".filter(Category.name.like('math%'))\\\n",
    ".distinct().count()"
   ]
  },
  {
   "cell_type": "code",
   "execution_count": null,
   "metadata": {},
   "outputs": [],
   "source": []
  }
 ],
 "metadata": {
  "kernelspec": {
   "display_name": "Python 3",
   "language": "python",
   "name": "python3"
  },
  "language_info": {
   "codemirror_mode": {
    "name": "ipython",
    "version": 3
   },
   "file_extension": ".py",
   "mimetype": "text/x-python",
   "name": "python",
   "nbconvert_exporter": "python",
   "pygments_lexer": "ipython3",
   "version": "3.6.2"
  }
 },
 "nbformat": 4,
 "nbformat_minor": 2
}
