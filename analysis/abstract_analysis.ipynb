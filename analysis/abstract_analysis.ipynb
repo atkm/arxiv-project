{
 "cells": [
  {
   "cell_type": "markdown",
   "metadata": {},
   "source": [
    "NLP analysis of data in `~/.metha`.\n",
    "Load just enough data to get something meaningful.\n",
    "\n",
    "Identifier format before March 2007 differ from the present "
   ]
  },
  {
   "cell_type": "code",
   "execution_count": 56,
   "metadata": {},
   "outputs": [],
   "source": [
    "import gzip, glob\n",
    "from datetime import datetime\n",
    "import pandas as pd\n",
    "import nltk\n",
    "import xml.etree.ElementTree as ET"
   ]
  },
  {
   "cell_type": "code",
   "execution_count": 7,
   "metadata": {},
   "outputs": [],
   "source": [
    "files = glob.glob('/home/atkm/.metha/20170923/2017-08-31-*.xml.gz')"
   ]
  },
  {
   "cell_type": "code",
   "execution_count": 12,
   "metadata": {},
   "outputs": [],
   "source": [
    "f = files[0]\n",
    "with gzip.open(f, 'rb') as f:\n",
    "    xml = ET.parse(f)"
   ]
  },
  {
   "cell_type": "code",
   "execution_count": 17,
   "metadata": {},
   "outputs": [
    {
     "data": {
      "text/plain": [
       "xml.etree.ElementTree.ElementTree"
      ]
     },
     "execution_count": 17,
     "metadata": {},
     "output_type": "execute_result"
    }
   ],
   "source": [
    "xml.__class__"
   ]
  },
  {
   "cell_type": "code",
   "execution_count": 15,
   "metadata": {},
   "outputs": [],
   "source": [
    "root = xml.getroot()"
   ]
  },
  {
   "cell_type": "code",
   "execution_count": 22,
   "metadata": {
    "scrolled": true
   },
   "outputs": [
    {
     "data": {
      "text/plain": [
       "[<Element 'responseDate' at 0x7f162cce4728>,\n",
       " <Element 'request' at 0x7f162cce43b8>,\n",
       " <Element 'error' at 0x7f162cce4908>,\n",
       " <Element 'GetRecord' at 0x7f162cce4ae8>,\n",
       " <Element 'Identify' at 0x7f162cce4c28>,\n",
       " <Element 'ListIdentifiers' at 0x7f162cce4c78>,\n",
       " <Element 'ListMetadataFormats' at 0x7f162cce4cc8>,\n",
       " <Element 'ListRecords' at 0x7f162cce4d18>,\n",
       " <Element 'ListSets' at 0x7f162c6eba48>]"
      ]
     },
     "execution_count": 22,
     "metadata": {},
     "output_type": "execute_result"
    }
   ],
   "source": [
    "root.getchildren()"
   ]
  },
  {
   "cell_type": "code",
   "execution_count": 27,
   "metadata": {
    "scrolled": true
   },
   "outputs": [
    {
     "name": "stdout",
     "output_type": "stream",
     "text": [
      "responseDate  !  []\n",
      "request  !  []\n",
      "error  !  []\n",
      "GetRecord  !  [<Element 'record' at 0x7f162cce49f8>]\n",
      "Identify  !  []\n",
      "ListIdentifiers  !  []\n",
      "ListMetadataFormats  !  []\n",
      "ListSets  !  []\n"
     ]
    }
   ],
   "source": [
    "for c in root.getchildren():\n",
    "    if c.tag != 'ListRecords': # ListRecords contains all documents\n",
    "        print(c.tag, ' ! ', c.getchildren())"
   ]
  },
  {
   "cell_type": "code",
   "execution_count": 33,
   "metadata": {},
   "outputs": [
    {
     "name": "stdout",
     "output_type": "stream",
     "text": [
      "GetRecord  !  {}\n",
      "record  !  {}\n",
      "header  !  {'status': ''}\n",
      "metadata  !  {}\n",
      "about  !  {}\n"
     ]
    }
   ],
   "source": [
    "# nothing in root.GetRecord\n",
    "for c in root.find('GetRecord').iter():\n",
    "    print(c.tag, ' ! ', c.attrib)"
   ]
  },
  {
   "cell_type": "code",
   "execution_count": 86,
   "metadata": {},
   "outputs": [
    {
     "data": {
      "text/plain": [
       "[]"
      ]
     },
     "execution_count": 86,
     "metadata": {},
     "output_type": "execute_result"
    }
   ],
   "source": []
  },
  {
   "cell_type": "code",
   "execution_count": 84,
   "metadata": {},
   "outputs": [],
   "source": [
    "a.append(1)"
   ]
  },
  {
   "cell_type": "code",
   "execution_count": 85,
   "metadata": {},
   "outputs": [
    {
     "data": {
      "text/plain": [
       "([1], [1], [1])"
      ]
     },
     "execution_count": 85,
     "metadata": {},
     "output_type": "execute_result"
    }
   ],
   "source": [
    "a,b,c"
   ]
  },
  {
   "cell_type": "code",
   "execution_count": 51,
   "metadata": {},
   "outputs": [],
   "source": [
    "xml.getroot().find('ListRecords').find('record').find('metadata').find('arXiv')"
   ]
  },
  {
   "cell_type": "code",
   "execution_count": 89,
   "metadata": {},
   "outputs": [],
   "source": [
    "def xml_to_df(xml):\n",
    "    \"\"\"\n",
    "    xml: ElementTree such that xml.getroot() returns an Element\n",
    "    \"\"\"\n",
    "    root = xml.getroot()\n",
    "    #OAIurl = '{http://www.openarchives.org/OAI/2.0/}'\n",
    "    arXiv_prefix = '{http://arxiv.org/OAI/arXiv/}'\n",
    "    title, abstract, authors, created, categories, identifier = ([] for i in range(6))\n",
    "    # Use Element.iter() ? (depth-first iteration of tree)\n",
    "    for record in root.find('ListRecords').findall(\"record\"):        \n",
    "        metadata = record.find('metadata').find(arXiv_prefix + \"arXiv\")\n",
    "        c = metadata.find(arXiv_prefix + \"created\").text\n",
    "        created.append( datetime.strptime(c, \"%Y-%m-%d\") )\n",
    "        authors.append( metadata.find(arXiv_prefix + 'authors').text )\n",
    "        categories.append( metadata.find(arXiv_prefix + \"categories\").text )\n",
    "        title.append( metadata.find(arXiv_prefix + \"title\").text )\n",
    "        identifier.append( metadata.find(arXiv_prefix + \"id\").text )\n",
    "        abstract.append( metadata.find(arXiv_prefix + \"abstract\").text.strip() )\n",
    "\n",
    "        #arxiv_id = record.find(OAIurl + 'header').find(OAIurl + 'identifier')\n",
    "        #datestamp = record.find(OAIurl+'header').find(OAIurl+'datestamp')\n",
    "        #datestamp = datetime.strptime(datestamp.text, '%Y-%m-%d')\n",
    "        \"\"\" Don't think DOI is needed\n",
    "        # if there is more than one DOI use the first one\n",
    "        # often the second one (if it exists at all) refers\n",
    "        # to an eratum or similar\n",
    "        doi = info.find(arXivOAI+\"doi\")\n",
    "        if doi is not None:\n",
    "            doi = doi.text.split()[0]\n",
    "        \"\"\"\n",
    "\n",
    "    # Much faster than appending each record as a Series to a df\n",
    "    df = pd.DataFrame({'title': title,\n",
    "                    'abstract': abstract,\n",
    "                    'authors': authors,\n",
    "                    'created': created,\n",
    "                    'categories': categories,\n",
    "                    'id': identifier})\n",
    "    return df"
   ]
  },
  {
   "cell_type": "code",
   "execution_count": 90,
   "metadata": {},
   "outputs": [],
   "source": [
    "df = xml_to_df(xml)"
   ]
  },
  {
   "cell_type": "code",
   "execution_count": 91,
   "metadata": {},
   "outputs": [
    {
     "data": {
      "text/plain": [
       "(1000, 6)"
      ]
     },
     "execution_count": 91,
     "metadata": {},
     "output_type": "execute_result"
    }
   ],
   "source": [
    "df.shape"
   ]
  },
  {
   "cell_type": "code",
   "execution_count": 98,
   "metadata": {},
   "outputs": [
    {
     "data": {
      "text/plain": [
       "count                    1000\n",
       "unique                    157\n",
       "top       2017-07-31 00:00:00\n",
       "freq                      109\n",
       "first     2017-02-21 00:00:00\n",
       "last      2017-07-31 00:00:00\n",
       "Name: created, dtype: object"
      ]
     },
     "execution_count": 98,
     "metadata": {},
     "output_type": "execute_result"
    }
   ],
   "source": [
    "df['created'].describe()"
   ]
  }
 ],
 "metadata": {
  "kernelspec": {
   "display_name": "Python 3",
   "language": "python",
   "name": "python3"
  },
  "language_info": {
   "codemirror_mode": {
    "name": "ipython",
    "version": 3
   },
   "file_extension": ".py",
   "mimetype": "text/x-python",
   "name": "python",
   "nbconvert_exporter": "python",
   "pygments_lexer": "ipython3",
   "version": "3.6.2"
  }
 },
 "nbformat": 4,
 "nbformat_minor": 2
}
